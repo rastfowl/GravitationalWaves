{
 "cells": [
  {
   "cell_type": "markdown",
   "metadata": {},
   "source": [
    "# Exercise !\n",
    "\n",
    "Using the following data, try to compute the Signal-to-Noise Ratio of the [GW150914](https://journals.aps.org/prl/abstract/10.1103/PhysRevLett.116.061102) signal:\n",
    "\n",
    "- The (good guess) [signal for the Hanford detector](https://www.gw-openscience.org/GW150914data/P150914/fig1-waveform-H.txt)\n",
    "- The [Hanford detector data](https://www.gw-openscience.org/GW150914data/P150914/fig1-observed-H.txt)\n",
    "- The [Amplitude Spectral Density for the Hanford detector](https://www.gw-openscience.org/GW150914data/P1500238/H1-GDS-CALIB_STRAIN.txt)\n",
    "- The (good guess) [signal for the Livingston detector](https://www.gw-openscience.org/GW150914data/P150914/fig1-waveform-L.txt)\n",
    "- The [Livingston detector data](https://www.gw-openscience.org/GW150914data/P150914/fig1-observed-L.txt)\n",
    "- The [Amplitude Spectral Density for the Livingston detector](https://www.gw-openscience.org/GW150914data/P1500238/L1-GDS-CALIB_STRAIN.txt) \n",
    "\n",
    "**Note**: ASD$^2$ = PSD\n",
    "\n",
    "**Hint**: Plot things out and check your routines on simple inputs first !\n"
   ]
  },
  {
   "cell_type": "code",
   "execution_count": null,
   "metadata": {},
   "outputs": [],
   "source": []
  }
 ],
 "metadata": {
  "kernelspec": {
   "display_name": "Python 3",
   "language": "python",
   "name": "python3"
  },
  "language_info": {
   "codemirror_mode": {
    "name": "ipython",
    "version": 3
   },
   "file_extension": ".py",
   "mimetype": "text/x-python",
   "name": "python",
   "nbconvert_exporter": "python",
   "pygments_lexer": "ipython3",
   "version": "3.7.6"
  }
 },
 "nbformat": 4,
 "nbformat_minor": 4
}
